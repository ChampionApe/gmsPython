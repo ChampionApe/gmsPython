{
 "cells": [
  {
   "cell_type": "code",
   "execution_count": 1,
   "id": "61a13e43-3485-4d82-8993-0deedf74ca09",
   "metadata": {},
   "outputs": [],
   "source": [
    "import os\n",
    "from gmsPython.nestingTree.nestingTree import *"
   ]
  },
  {
   "cell_type": "markdown",
   "id": "cdc6a203-c999-49a1-a533-b83a714b5cbd",
   "metadata": {},
   "source": [
    "## 1. ```Tree```"
   ]
  },
  {
   "cell_type": "markdown",
   "id": "df62a46a-fa7e-4013-9aad-e8fb81428e8b",
   "metadata": {},
   "source": [
    "Collect nesting structure information in pandas indices."
   ]
  },
  {
   "cell_type": "markdown",
   "id": "0949bf9b-be17-4119-96f3-8523d53e8fd3",
   "metadata": {},
   "source": [
    "```python\n",
    "class Tree(name, tree = None, db = None, f = None, **ns)\n",
    "```"
   ]
  },
  {
   "cell_type": "markdown",
   "id": "d241e24c-3a30-4f4e-b0d6-d546520b8871",
   "metadata": {},
   "source": [
    "Here (default options):\n",
    "* ```tree = []```: Nesting structure specified as list of tuples. For each tuple ```x``` we have ```x[0]```= sector, ```x[1]``` = parent node and ```x[2]```= child node.\n",
    "* ```db = {}```: dictionary database of ```gpy``` symbols (from ```pyDatabases``` package).\n",
    "* ```f = 'CES'```: Define type of function to apply in the specific nest (used later).\n",
    "* ```ns```: Dictionary with updates to the namespace of the tree. When we combine nesting trees later on, it will be pertinent that symbols in each tree have specific names. If nothing is provided, the standard convention is to use the syntax ```f\"{self.name}_{k}``` for symbol ```k```. \n",
    "\n",
    "*Note:* The nesting tree includes fixed names for the fundamental sets - ```s```= sector index, ```n``` = goods index, ```nn``` = alias of ```n```. Every other"
   ]
  },
  {
   "cell_type": "code",
   "execution_count": 2,
   "id": "28c87479-ccd9-48a0-96bf-f003254317e6",
   "metadata": {},
   "outputs": [],
   "source": [
    "name = 'A'\n",
    "tree = [('s1','KL','K'),\n",
    "        ('s1','KL','L')]\n",
    "A = Tree(name, tree = tree)"
   ]
  },
  {
   "cell_type": "markdown",
   "id": "d011fa47-9263-4ce4-8406-e8bbbe787ba7",
   "metadata": {},
   "source": [
    "The ```__call__``` method compiles the tree structure and the main symbols that describe the tree:"
   ]
  },
  {
   "cell_type": "code",
   "execution_count": 3,
   "id": "893461d7-dc49-47e6-8734-924e00f9b79f",
   "metadata": {},
   "outputs": [
    {
     "data": {
      "text/plain": [
       "<gmsPython.nestingTree.nestingTree.Tree at 0x15bb00cfe10>"
      ]
     },
     "execution_count": 3,
     "metadata": {},
     "output_type": "execute_result"
    }
   ],
   "source": [
    "A()"
   ]
  },
  {
   "cell_type": "markdown",
   "id": "f607cfff-ea10-4078-90fd-5276d753b9d3",
   "metadata": {},
   "source": [
    "The call method establishes 8 symbols based on the tree structure and function:\n",
    "* ```n```: set of goods\n",
    "* ```s```: set of sectors\n",
    "* ```map```: Nesting tree as pd.MultiIndex\n",
    "* ```knot```: \"Knots\" in the nesting tree.\n",
    "* ```branch```: \"branche\"\"\" in the nesting tree.\n",
    "* ```input, int, output```: Split goods into types inputs, intermediate goods, and outputs.\n",
    "\n",
    "All symbols are stored and can be accessed in the database:"
   ]
  },
  {
   "cell_type": "code",
   "execution_count": 4,
   "id": "25ba8e14-55a8-4493-bee0-a949afae89c3",
   "metadata": {},
   "outputs": [
    {
     "data": {
      "text/plain": [
       "{'A_map': <pyDatabases.gpyDB.database.gpy at 0x15bb00d7e90>,\n",
       " 'A_knot': <pyDatabases.gpyDB.database.gpy at 0x15bb00e12d0>,\n",
       " 'A_branch': <pyDatabases.gpyDB.database.gpy at 0x15bb00c9810>,\n",
       " 'n': <pyDatabases.gpyDB.database.gpy at 0x15bb0506d50>,\n",
       " 's': <pyDatabases.gpyDB.database.gpy at 0x15bb0507510>,\n",
       " 'A_input': <pyDatabases.gpyDB.database.gpy at 0x15babc57950>,\n",
       " 'A_output': <pyDatabases.gpyDB.database.gpy at 0x15bad9979d0>,\n",
       " 'A_int': <pyDatabases.gpyDB.database.gpy at 0x15bb0507f50>}"
      ]
     },
     "execution_count": 4,
     "metadata": {},
     "output_type": "execute_result"
    }
   ],
   "source": [
    "A.db"
   ]
  },
  {
   "cell_type": "markdown",
   "id": "0b3c6bff-048e-4e02-aead-3143441ae988",
   "metadata": {},
   "source": [
    "The namespace in ```self.ns``` is used when accessing and setting values using the ```__setitem__``` and ```__getitem__``` methods. Accessing a symbol automatically attemps to look up the name in the namespace first, then defaults to the key that we pass. For instance, the namespace details that the ```map``` is named ```map_A``` in this instance:"
   ]
  },
  {
   "cell_type": "code",
   "execution_count": 5,
   "id": "24acb680-f952-4203-98af-aa6d177707db",
   "metadata": {},
   "outputs": [
    {
     "data": {
      "text/plain": [
       "'A_map'"
      ]
     },
     "execution_count": 5,
     "metadata": {},
     "output_type": "execute_result"
    }
   ],
   "source": [
    "A['map'].name"
   ]
  },
  {
   "cell_type": "code",
   "execution_count": 6,
   "id": "67fb4104-31f2-48a0-8a7a-eb1761ddd0c6",
   "metadata": {},
   "outputs": [
    {
     "data": {
      "text/plain": [
       "MultiIndex([('s1', 'KL', 'K'),\n",
       "            ('s1', 'KL', 'L')],\n",
       "           names=['s', 'n', 'nn'])"
      ]
     },
     "execution_count": 6,
     "metadata": {},
     "output_type": "execute_result"
    }
   ],
   "source": [
    "A.get('map') # the get method accesses the .vals attribute for the gpy symbol"
   ]
  },
  {
   "cell_type": "markdown",
   "id": "e1500483-7b1a-4909-a698-31eb4205af06",
   "metadata": {},
   "source": [
    "## 2. ```TreeFromData```"
   ]
  },
  {
   "cell_type": "markdown",
   "id": "b8d607d7-d926-4a97-a4ba-db2b8b4d423b",
   "metadata": {},
   "source": [
    "We can also infer the structure by loading the share parameter $\\mu$:"
   ]
  },
  {
   "cell_type": "code",
   "execution_count": 7,
   "id": "47f931b3-206b-45e5-a277-c4cdb3d1a99f",
   "metadata": {},
   "outputs": [
    {
     "data": {
      "text/plain": [
       "{'mu': <pyDatabases.gpyDB.database.gpy at 0x15bad641e50>,\n",
       " 'A_map': <pyDatabases.gpyDB.database.gpy at 0x15baff38f90>,\n",
       " 'A_knot': <pyDatabases.gpyDB.database.gpy at 0x15baee79a10>,\n",
       " 'A_branch': <pyDatabases.gpyDB.database.gpy at 0x15bb00bf010>,\n",
       " 'n': <pyDatabases.gpyDB.database.gpy at 0x15bb050ad90>,\n",
       " 's': <pyDatabases.gpyDB.database.gpy at 0x15bb050a290>,\n",
       " 'A_input': <pyDatabases.gpyDB.database.gpy at 0x15bb0506a50>,\n",
       " 'A_output': <pyDatabases.gpyDB.database.gpy at 0x15bb050a710>,\n",
       " 'A_int': <pyDatabases.gpyDB.database.gpy at 0x15bb050b3d0>}"
      ]
     },
     "execution_count": 7,
     "metadata": {},
     "output_type": "execute_result"
    }
   ],
   "source": [
    "data = os.path.join(os.getcwd(), 'test', 'treedata.xlsx')\n",
    "A = TreeFromData(data, 'A')\n",
    "A()\n",
    "A.db"
   ]
  },
  {
   "cell_type": "markdown",
   "id": "ab6e84f4-2524-4e62-afd4-14e9c50f4309",
   "metadata": {},
   "source": [
    "## 3. ```AggTree```"
   ]
  },
  {
   "cell_type": "markdown",
   "id": "71135f48-4995-4f34-bd87-5bd781170194",
   "metadata": {},
   "source": [
    "A method that combines ```Tree``` instances into an aggregate tree, i.e. it allow us to assemble nesting trees with different settings (e.g. type of functions to apply in the nesting structure)."
   ]
  },
  {
   "cell_type": "markdown",
   "id": "4075f030-a7f8-4f25-8019-b4bab6c217df",
   "metadata": {},
   "source": [
    "```python\n",
    "class AggTree(name=\"\", trees = None, ws = None, **ns)\n",
    "```"
   ]
  },
  {
   "cell_type": "markdown",
   "id": "5d688e3b-f323-487a-a9fa-f2f58c31d275",
   "metadata": {},
   "source": [
    "Here:\n",
    "* ```name = \"\"```: Name. Will be added to the namespace as default.\n",
    "* ```trees={}```: dictionary of ```Tree``` instances (key = name of trees, value = ```Tree``` instance).\n",
    "* ```ws=None```: Used to initialize database.\n",
    "* ```ns```: Dictionary with updates to the namespace of symbols relevant for the aggregate nesting tree.\n",
    "\n",
    "The class always initialize with two additional attributes: \n",
    "* ```self.prune = ('n','nn','nnn','s','input','output','int')```: Name of symbols not to carry with us from individual ```Tree``` instances to the aggregate tree.\n",
    "* ```self.db = GpyDB(ws = ws, alias = [('n','nn'), ('n','nnn')], name = self.name)```: Empty database with alias specification and name from the ```AggTree.name```."
   ]
  },
  {
   "cell_type": "markdown",
   "id": "b64ccbbf-b350-4775-a2c6-fe00d291a9b4",
   "metadata": {},
   "source": [
    "Consider for instance the nesting tree that captures a CES production technology of $X,K,L$ into $KL$ (tree name A) - which then again is split into two outputs $X,Y$ in a CET-like manner (tree name B):"
   ]
  },
  {
   "cell_type": "code",
   "execution_count": 8,
   "id": "6ef42eac-0554-4574-bac5-7184af29d99c",
   "metadata": {},
   "outputs": [],
   "source": [
    "A = Tree('A', tree = [('s1','K','KL'), ('s1','L','KL'), ('s1','X_input','KL')], f = 'CES')\n",
    "B = Tree('B', tree = [('s1','KL','Y'), ('s1','KL','X')], f = 'CET')"
   ]
  },
  {
   "cell_type": "markdown",
   "id": "8c7b99ef-d387-4e05-af54-cbdcab244269",
   "metadata": {},
   "source": [
    "*Note: In the input nest, we replace the name $X$ with ```X_input``` to distinguish this from the output $X$. When compiling the aggregate tree, we make sure to reverse this.*"
   ]
  },
  {
   "cell_type": "markdown",
   "id": "a9815811-f886-4c77-a991-915851aa5c07",
   "metadata": {},
   "source": [
    "The aggregate nesting tree:"
   ]
  },
  {
   "cell_type": "code",
   "execution_count": 9,
   "id": "07715c6c-9548-4e4a-8663-0d160055e20a",
   "metadata": {},
   "outputs": [],
   "source": [
    "AB = AggTree(name = 'AB', trees = {tree.name: tree for tree in (A,B)})"
   ]
  },
  {
   "cell_type": "markdown",
   "id": "4bbafc1f-164b-4434-98bd-d0dab916a1dc",
   "metadata": {},
   "source": [
    "The ```__call__(namespace = None)``` method compiles the tree and specifies the relevant symbols in the database. The namespace argument is used to temporarily update set elements: We use it here to replace ```X_input``` with ```X```:"
   ]
  },
  {
   "cell_type": "code",
   "execution_count": 10,
   "id": "9943d86c-8a7d-4904-8246-98eb6cd35cf7",
   "metadata": {},
   "outputs": [
    {
     "data": {
      "text/plain": [
       "<gmsPython.nestingTree.nestingTree.AggTree at 0x15bb0519950>"
      ]
     },
     "execution_count": 10,
     "metadata": {},
     "output_type": "execute_result"
    }
   ],
   "source": [
    "AB(namespace = {'X_input': 'X'}) # "
   ]
  },
  {
   "cell_type": "markdown",
   "id": "e1b3653a-fdc1-4089-b447-94b9bf958613",
   "metadata": {},
   "source": [
    "This call creates a number of symbols, some for the aggregate tree, some for the individual ones:\n",
    "\n",
    "**Aggregate tree symbols:** Are all defined with syntax ```f'{self.name}_{x}``` with x in:\n",
    "* ```map```: Concatenation of tree maps\n",
    "* ```map_spinp```: Part of the map that relies on scale-preserving functions and are input type trees.\n",
    "* ```map_spout```: Part of the map that relies on scale-preserving functions and are output type trees.\n",
    "* ```knout```: Knots in the aggregate nesting tree that are output-like types.\n",
    "* ```kninp```: Knots in the aggregate nesting tree that are input-like types.\n",
    "* ```spout```: Knots in scale-preserving trees that are output-like.\n",
    "* ```spinp```: Knots in the scale-preserving trees that are input-like.\n",
    "* ```input```: Nodes that are inputs in the aggregate tree\n",
    "* ```output```: Nodes that are outputs in the aggregate tree\n",
    "* ```int```: intermediate notes in aggregate tree."
   ]
  },
  {
   "cell_type": "markdown",
   "id": "2aac0701-31e3-4fb2-8be5-57bef2953dab",
   "metadata": {},
   "source": [
    "**Tree specific symbols:** All defined with syntax ```f'{tree.name}_{x}'``` with x in:\n",
    "* ```knot_o```: Knots in specific tree that are outputs in aggregate tree (only defined for input-like trees)\n",
    "* ```knot_no```: Knots in specific tree that *not* outputs in aggregate tree (only defined for input-like trees)\n",
    "* ```branch2o```: Branches where parent node is an output in aggregate tree (only defined for input-like trees)\n",
    "* ```branch2no```: Branches where parent node is *not* an output in aggregate tree (only defined for input-like trees)\n",
    "* ```branch_o```: Branch that is an aggregate output (only defined for output-like trees)\n",
    "* ```branch_no```: Branch that is *not* an aggregate output (only defined for output-like trees)"
   ]
  },
  {
   "cell_type": "code",
   "execution_count": 11,
   "id": "381c563f-83d1-4b58-9de5-b3a9a9c30dc4",
   "metadata": {},
   "outputs": [
    {
     "data": {
      "text/plain": [
       "{'alias_': <pyDatabases.gpyDB.database.gpy at 0x15bb0530150>,\n",
       " 'alias_set': <pyDatabases.gpyDB.database.gpy at 0x15bb05250d0>,\n",
       " 'alias_map2': <pyDatabases.gpyDB.database.gpy at 0x15bb0506850>,\n",
       " 'n': <pyDatabases.gpyDB.database.gpy at 0x15bad629890>,\n",
       " 's': <pyDatabases.gpyDB.database.gpy at 0x15bb0542950>,\n",
       " 'AB_map': <pyDatabases.gpyDB.database.gpy at 0x15bb050b5d0>,\n",
       " 'AB_map_spinp': <pyDatabases.gpyDB.database.gpy at 0x15bb0525510>,\n",
       " 'AB_map_spout': <pyDatabases.gpyDB.database.gpy at 0x15bb0542ed0>,\n",
       " 'AB_knout': <pyDatabases.gpyDB.database.gpy at 0x15bb0532390>,\n",
       " 'AB_kninp': <pyDatabases.gpyDB.database.gpy at 0x15bb0542410>,\n",
       " 'AB_spout': <pyDatabases.gpyDB.database.gpy at 0x15bb0543b50>,\n",
       " 'AB_spinp': <pyDatabases.gpyDB.database.gpy at 0x15bb0542190>,\n",
       " 'AB_input': <pyDatabases.gpyDB.database.gpy at 0x15bb0540810>,\n",
       " 'AB_output': <pyDatabases.gpyDB.database.gpy at 0x15bb0531190>,\n",
       " 'AB_int': <pyDatabases.gpyDB.database.gpy at 0x15bb0542f90>,\n",
       " 'A_map': <pyDatabases.gpyDB.database.gpy at 0x15bb0551790>,\n",
       " 'A_knot': <pyDatabases.gpyDB.database.gpy at 0x15bb0518810>,\n",
       " 'A_branch': <pyDatabases.gpyDB.database.gpy at 0x15bb0553350>,\n",
       " 'A_knot_o': <pyDatabases.gpyDB.database.gpy at 0x15bb05525d0>,\n",
       " 'A_knot_no': <pyDatabases.gpyDB.database.gpy at 0x15bb05521d0>,\n",
       " 'A_branch2o': <pyDatabases.gpyDB.database.gpy at 0x15bb0553190>,\n",
       " 'A_branch2no': <pyDatabases.gpyDB.database.gpy at 0x15bb0552910>,\n",
       " 'B_map': <pyDatabases.gpyDB.database.gpy at 0x15bb0552f10>,\n",
       " 'B_knot': <pyDatabases.gpyDB.database.gpy at 0x15bb0553410>,\n",
       " 'B_branch': <pyDatabases.gpyDB.database.gpy at 0x15bb0553490>,\n",
       " 'B_branch_o': <pyDatabases.gpyDB.database.gpy at 0x15bb0553510>,\n",
       " 'B_branch_no': <pyDatabases.gpyDB.database.gpy at 0x15bb0553590>}"
      ]
     },
     "execution_count": 11,
     "metadata": {},
     "output_type": "execute_result"
    }
   ],
   "source": [
    "AB.db.symbols"
   ]
  },
  {
   "cell_type": "markdown",
   "id": "9ee45f75-3ec8-4d1f-be98-d9435e7ff0e1",
   "metadata": {},
   "source": [
    "As with the individual trees, we have a namespace attached to the aggregate tree (```self.ns```). This is used when navigating symbols and names of the symbols. \n",
    "\n",
    "The ```self.n(item, local = None)``` method is used to navigate the namespaces of the aggregate trees and its individual trees: "
   ]
  },
  {
   "cell_type": "code",
   "execution_count": 12,
   "id": "ed6a39f6-bef1-43d2-9dc8-23c4453335f6",
   "metadata": {},
   "outputs": [
    {
     "data": {
      "text/plain": [
       "'AB_map'"
      ]
     },
     "execution_count": 12,
     "metadata": {},
     "output_type": "execute_result"
    }
   ],
   "source": [
    "AB.n('map') # if Local = None we access the namespace of the aggregate tree"
   ]
  },
  {
   "cell_type": "code",
   "execution_count": 13,
   "id": "1d388edc-cc62-42a1-ba11-f1e06680195c",
   "metadata": {},
   "outputs": [
    {
     "data": {
      "text/plain": [
       "'A_map'"
      ]
     },
     "execution_count": 13,
     "metadata": {},
     "output_type": "execute_result"
    }
   ],
   "source": [
    "AB.n('map', local = 'A') # access namespace of tree 'A'"
   ]
  },
  {
   "cell_type": "markdown",
   "id": "06b84466-dec3-4369-920d-fc496058679b",
   "metadata": {},
   "source": [
    "The ```self.get(item, local = None)``` works through the ```self.n``` method; thus, we access the relevant symbols using:"
   ]
  },
  {
   "cell_type": "code",
   "execution_count": 14,
   "id": "1aee6f8a-0cf1-4ae7-9d54-0c1bcb4fac1c",
   "metadata": {},
   "outputs": [
    {
     "data": {
      "text/plain": [
       "MultiIndex([('s1',  'K', 'KL'),\n",
       "            ('s1', 'KL',  'X'),\n",
       "            ('s1', 'KL',  'Y'),\n",
       "            ('s1',  'L', 'KL'),\n",
       "            ('s1',  'X', 'KL')],\n",
       "           names=['s', 'n', 'nn'])"
      ]
     },
     "execution_count": 14,
     "metadata": {},
     "output_type": "execute_result"
    }
   ],
   "source": [
    "AB.get('map') # map of aggregate tree"
   ]
  },
  {
   "cell_type": "code",
   "execution_count": 15,
   "id": "7634fb33-c38b-4486-8f1e-a2c38d8dad48",
   "metadata": {},
   "outputs": [
    {
     "data": {
      "text/plain": [
       "MultiIndex([('s1', 'K', 'KL'),\n",
       "            ('s1', 'L', 'KL'),\n",
       "            ('s1', 'X', 'KL')],\n",
       "           names=['s', 'n', 'nn'])"
      ]
     },
     "execution_count": 15,
     "metadata": {},
     "output_type": "execute_result"
    }
   ],
   "source": [
    "AB.get('map',local = 'A') # nesting tree from part 'A'"
   ]
  },
  {
   "cell_type": "markdown",
   "id": "f9fa37ed-5c41-47d1-8b29-44a66c629c52",
   "metadata": {},
   "source": [
    "## 4. ```AggTreeFromData```"
   ]
  },
  {
   "cell_type": "markdown",
   "id": "9eb7fba6-6020-4ebd-802b-c779c58a9c63",
   "metadata": {},
   "source": [
    "As with the individual tree, we can also construct this from data. The individual tree names are read from the individual sheets. If no options are provided, we assume all sheets should be used to establish individual trees:"
   ]
  },
  {
   "cell_type": "code",
   "execution_count": 16,
   "id": "70a7a6fb-dff6-46ef-91d0-5ba0820fef8f",
   "metadata": {},
   "outputs": [],
   "source": [
    "AggTreeData = os.path.join(os.getcwd(), 'test', 'Treedata_.xlsx')\n",
    "AB = AggTreeFromData(AggTreeData, name = 'AB')(namespace = {'X_input': 'X'})"
   ]
  },
  {
   "cell_type": "markdown",
   "id": "0131a46c-ca0c-45eb-a114-27ad214da26d",
   "metadata": {},
   "source": [
    "## 5. ```trimNestingStructure```"
   ]
  },
  {
   "cell_type": "markdown",
   "id": "f446d7a1-c1fe-428d-a8a2-99ba8e8fa72a",
   "metadata": {},
   "source": [
    "*To do: Add trimming of output and mixed tries.*"
   ]
  },
  {
   "cell_type": "markdown",
   "id": "51566409-7cf0-4ead-9c40-ed4570532e8f",
   "metadata": {},
   "source": [
    "### 5.1 Input trees:"
   ]
  },
  {
   "cell_type": "markdown",
   "id": "f08daaaa-c871-4bb6-b5b5-538f6f58e866",
   "metadata": {},
   "source": [
    "The option ```keepIntKnots = True``` (not default) keeps intermediate nodes in a nesting tree even though they only have one \"child\". This can be useful with very complicated nests if e.g. elasticities are defined over intermediate knots."
   ]
  },
  {
   "cell_type": "markdown",
   "id": "1d91b521-2d1a-495d-822f-6a0820203d33",
   "metadata": {},
   "source": [
    "* A: Tree with (i) Y maps to (KL, B), (ii) KL maps to (K, L).\n",
    "    * Sparsity 1: No demand for B. Expected result: Y --> (K,L). \n",
    "    * Sparsity 2: No demand for L. Expected result: Y --> (B,K) if ```keepIntKnots = False``` else Y --> (KL, B), KL --> (K).\n",
    "* B: Tree with (i) Y maps to (KL, BM). (ii) KL maps to (K, L). (iii) BM maps to (B,M).\n",
    "    * Sparsity 1: No demand for B or M. Expected result: Y --> (K,L)."
   ]
  },
  {
   "cell_type": "code",
   "execution_count": 17,
   "id": "c7e246fa-26d3-4ac8-83ca-2e35e51c7b47",
   "metadata": {},
   "outputs": [],
   "source": [
    "testTrees = {'A': [('s1','Y','KL'), ('s1','Y','B'), ('s1','KL','K'), ('s1','KL','L')],\n",
    "             'B': [('s1','Y','KL'), ('s1','Y','BM'), ('s1', 'KL','K'), ('s1','KL','L'), ('s1','BM','B'), ('s1','BM','M')]}\n",
    "tt = {k: Tree(k, tree = testTrees[k])() for k in testTrees}\n",
    "spars = {'A': [pd.MultiIndex.from_tuples([('s1','K'), ('s1','L')], names = ['s','n']), \n",
    "               pd.MultiIndex.from_tuples([('s1','B'), ('s1','K')], names = ['s','n'])],\n",
    "         'B': [pd.MultiIndex.from_tuples([('s1','K'), ('s1','L')], names = ['s','n'])]}"
   ]
  },
  {
   "cell_type": "markdown",
   "id": "e66a28c5-3b93-437b-b782-b53c86aa506d",
   "metadata": {},
   "source": [
    "Test outcome:"
   ]
  },
  {
   "cell_type": "code",
   "execution_count": 33,
   "id": "726c1bf5-db2f-489c-a861-639123c6230b",
   "metadata": {},
   "outputs": [
    {
     "data": {
      "text/plain": [
       "MultiIndex([('s1', 'Y', 'K'),\n",
       "            ('s1', 'Y', 'L')],\n",
       "           names=['s', 'n', 'nn'])"
      ]
     },
     "execution_count": 33,
     "metadata": {},
     "output_type": "execute_result"
    }
   ],
   "source": [
    "tn, i = 'B', 0\n",
    "m = tt[tn].get('map')\n",
    "sparsity = spars[tn][i]\n",
    "trimNestingStructure(m, sparsity, keepIntKnots = False)"
   ]
  }
 ],
 "metadata": {
  "kernelspec": {
   "display_name": "Python 3 (ipykernel)",
   "language": "python",
   "name": "python3"
  },
  "language_info": {
   "codemirror_mode": {
    "name": "ipython",
    "version": 3
   },
   "file_extension": ".py",
   "mimetype": "text/x-python",
   "name": "python",
   "nbconvert_exporter": "python",
   "pygments_lexer": "ipython3",
   "version": "3.11.8"
  }
 },
 "nbformat": 4,
 "nbformat_minor": 5
}
