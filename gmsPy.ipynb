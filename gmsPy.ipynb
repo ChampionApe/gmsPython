{
 "cells": [
  {
   "cell_type": "code",
   "execution_count": 1,
   "id": "819b726d-da6b-4bfc-9c16-c99b9a0b5ddb",
   "metadata": {},
   "outputs": [],
   "source": [
    "import os\n",
    "from gmsPython.gmsPy.gmsPy import *\n",
    "from gmsPython.gmsWrite.gmsWrite import Syms\n",
    "from gmsPython.gamY.gamY import Precompiler"
   ]
  },
  {
   "cell_type": "markdown",
   "id": "345207f8-83c4-4fec-8e54-4af18e4cd034",
   "metadata": {},
   "source": [
    "*Load test database with symbols:*"
   ]
  },
  {
   "cell_type": "code",
   "execution_count": 2,
   "id": "fcc7a3ee-1784-4fc0-b3e1-bb674f83fede",
   "metadata": {},
   "outputs": [],
   "source": [
    "work_folder = os.path.join(os.getcwd(),'workFolder')\n",
    "data_folder = os.path.join(os.getcwd(), 'test')\n",
    "db = gpyDB.GpyDB(db = os.path.join(data_folder, 'test_size1000.gdx'), ws = work_folder)"
   ]
  },
  {
   "cell_type": "markdown",
   "id": "62e280a6-e1e7-43cd-aca9-ff2849afa943",
   "metadata": {},
   "source": [
    "## GmsPy "
   ]
  },
  {
   "cell_type": "markdown",
   "id": "a50edac9-30a4-4de0-9502-f9f50029f294",
   "metadata": {},
   "source": [
    "The building blocks of the model is the following:\n",
    "* ```Group```: Defines group of variables. This can build on simple strings or ```gpy``` objects and conditionals as specified in ```gmsWrite```.\n",
    "* ```Block```: Define blocks of equations. Name of equations are strings, but conditionals can be any that is used in ```gmsWrite``` (i.e. gpy-types)."
   ]
  },
  {
   "cell_type": "markdown",
   "id": "617aa13f-cb8c-4564-8ad8-a6c451d8a4e0",
   "metadata": {},
   "source": [
    "### 1. ```Group```"
   ]
  },
  {
   "cell_type": "markdown",
   "id": "ca97fec9-40c5-44ad-ada4-63c7a8c563c6",
   "metadata": {},
   "source": [
    "Groups can be defined using four methods:\n",
    "* Adding a variable + potential conditions.\n",
    "* Removing a variable + potential conditions.\n",
    "    * If conditions is None - this removes the entire variable from the group.\n",
    "    * If conditions is in existing conditions - remove from conditions.\n",
    "    * If conditions is not in existing conditions - add ```f\"and not {conditions}\"``` to the aggregate conditional for the variable.\n",
    "* Add another group. Only works for compiled groups.\n",
    "* Subtract another group. Only works for compiled groups."
   ]
  },
  {
   "cell_type": "markdown",
   "id": "5a777ff3-ddb9-4743-a8bc-a5a3cc16c803",
   "metadata": {},
   "source": [
    "#### The ```__call__``` method:"
   ]
  },
  {
   "cell_type": "markdown",
   "id": "218c1463-c586-4cf6-8c7e-1ec6deaabb4b",
   "metadata": {},
   "source": [
    "The ```__call__``` method works as follows:\n",
    "1. Start by looking for entire groups to remove. We match on the group ```name``` - and not whether or not groups are actually the same compiled objects.\n",
    "2. Add all ```self.v``` symbols and ```self.g``` groups to the ```self.out``` dictionary (that holds {name, condition} combinations). If ```v``` is a string, this is the symbol name , if it is a tuple the first element is the name, the second the condition.\n",
    "    * If ```None``` is in ```self.out[name]``` --> replace conditions with ```None```. (This entails that the entire symbol is {zused)\n",
    "3. Add all ```self.sub_v``` symbols and ```self.sub_g``` groups to the ```self.out_neg``` dictionary (that holds {name, condition} combinations). Same syntax as adding.\n",
    "    * If ```None``` is in ```self.out_neg[name]``` --> remove symbol from ```self.out``` and ```self.out_neg``` dictionaries.\n",
    "4. If a {name, condition} combination is in both ```self.out``` and ```self.out_neg```, the element is removed from both.\n",
    "\n"
   ]
  },
  {
   "cell_type": "markdown",
   "id": "d715a5a3-9326-429a-a309-87e2aa8696e0",
   "metadata": {},
   "source": [
    "#### Examples"
   ]
  },
  {
   "cell_type": "markdown",
   "id": "3335327a-d7e8-48c6-a37a-f1d8e330a0e7",
   "metadata": {},
   "source": [
    "*Example 1: Text only:*\n",
    "\n",
    "Specify a group only with one variable. Only use combinations of $i,j$ where the ```map[i,j]``` subset is defined. Leave out the parts where ```subset[j]``` is defined:"
   ]
  },
  {
   "cell_type": "code",
   "execution_count": 3,
   "id": "de4211de-2004-4655-9f9a-4caa560efb07",
   "metadata": {},
   "outputs": [],
   "source": [
    "strEx = Group('ex', v = [('var[i,j]', 'map[i,j]')], sub_v = [('var[i,j]','subset[j]')])() # the () syntax compiles the group"
   ]
  },
  {
   "cell_type": "markdown",
   "id": "b2fa1f1c-9a88-4efd-9b46-92a35a70e2a2",
   "metadata": {},
   "source": [
    "The ```self.conditions```  produce dictionary with conditions that can be passed to ```gmsWrite.Syms.gpyCondition```: "
   ]
  },
  {
   "cell_type": "code",
   "execution_count": 4,
   "id": "110442f0-d369-4585-b88e-dccf333efe9d",
   "metadata": {},
   "outputs": [],
   "source": [
    "conditions = strEx.conditions"
   ]
  },
  {
   "cell_type": "markdown",
   "id": "35da8a2e-5769-4b61-9ae9-f3c0e9f16d39",
   "metadata": {},
   "source": [
    "The ```self.writeVar``` method writes the variable with its conditions and other potential adjustments. For instance, this syntax gets the level attribute for the subsetted part of the variable:"
   ]
  },
  {
   "cell_type": "code",
   "execution_count": 5,
   "id": "e85a14c5-5341-4805-953d-ff459c05aff0",
   "metadata": {},
   "outputs": [
    {
     "data": {
      "text/plain": [
       "'var.l[i,j]$((map[i,j] and ( not (subset[j]))))'"
      ]
     },
     "execution_count": 5,
     "metadata": {},
     "output_type": "execute_result"
    }
   ],
   "source": [
    "strEx.writeVar('var[i,j]', c = conditions, l='.l')"
   ]
  },
  {
   "cell_type": "markdown",
   "id": "0b813b7f-5428-4e6f-826c-4a75678f60c2",
   "metadata": {},
   "source": [
    "The ```self.declare``` method returns a block of text that declares variables from the group:"
   ]
  },
  {
   "cell_type": "code",
   "execution_count": 6,
   "id": "050fba71-6620-49a9-880f-450852b49ebd",
   "metadata": {},
   "outputs": [
    {
     "name": "stdout",
     "output_type": "stream",
     "text": [
      "variables\n",
      "\tvar[i,j]\n",
      ";\n",
      "\n",
      "\n"
     ]
    }
   ],
   "source": [
    "print(strEx.declare())"
   ]
  },
  {
   "cell_type": "markdown",
   "id": "56e30cc4-efa6-45ca-bdbc-6d88d86c537c",
   "metadata": {},
   "source": [
    "We can add exceptions to the declare statement. In this case, as the variable $var[i,j]$ is the only variable in the group, adding this as an exception means returning an empty string instead:"
   ]
  },
  {
   "cell_type": "code",
   "execution_count": 7,
   "id": "6cdfffcf-f116-492d-86f2-ace2c0affeed",
   "metadata": {},
   "outputs": [
    {
     "name": "stdout",
     "output_type": "stream",
     "text": [
      "\n"
     ]
    }
   ],
   "source": [
    "print(strEx.declare(exceptions = ['var[i,j]'])) # the lines of text with \"variables\" and \";\" are removed if no variables are declared as is the case here"
   ]
  },
  {
   "cell_type": "markdown",
   "id": "76b9781f-bb2a-4194-8275-a10b31ea1611",
   "metadata": {},
   "source": [
    "*Note: The text only example means that other features such as merging of gams groups and subsetting the Python version of the symbols does not work. If we only use string methods, we may as well simply write the entire text strings ourselves.*"
   ]
  },
  {
   "cell_type": "markdown",
   "id": "a4b20a1c-ebac-4528-98d9-493a7572679c",
   "metadata": {},
   "source": [
    "*Example 2:* Initialize with entire two variables. Remove one of them again entirely and a subset of the other: "
   ]
  },
  {
   "cell_type": "code",
   "execution_count": 8,
   "id": "8262d880-0ad0-4276-8ab4-cd44fe715948",
   "metadata": {},
   "outputs": [
    {
     "data": {
      "text/plain": [
       "'var.l[i,j]$(( not (subset[j])))'"
      ]
     },
     "execution_count": 8,
     "metadata": {},
     "output_type": "execute_result"
    }
   ],
   "source": [
    "ex2 = Group('ex', v = ['var', 'var1d'], sub_v = [('var', db['subset']), 'var1d'])()\n",
    "conditions = ex2.conditions\n",
    "ex2.writeVar('var', db = db, c = conditions, l = '.l') # get variable"
   ]
  },
  {
   "cell_type": "markdown",
   "id": "64068f80-8bd6-4c5f-a869-de2555786cf4",
   "metadata": {},
   "source": [
    "*Declare group:*"
   ]
  },
  {
   "cell_type": "code",
   "execution_count": 9,
   "id": "6f6e3955-797e-4126-b900-0aa2f1d53efc",
   "metadata": {},
   "outputs": [
    {
     "name": "stdout",
     "output_type": "stream",
     "text": [
      "variables\n",
      "\tvar[i,j]\n",
      ";\n",
      "\n",
      "\n"
     ]
    }
   ],
   "source": [
    "print(ex2.declare(db = db) )"
   ]
  },
  {
   "cell_type": "markdown",
   "id": "d8dc3ac4-18f8-4396-aa89-a613db759529",
   "metadata": {},
   "source": [
    "*Example 3: Add/subtract other compiled groups. Here, add the group above* "
   ]
  },
  {
   "cell_type": "code",
   "execution_count": 10,
   "id": "80616cad-cc9b-4bcd-a6a7-2144d50c47ff",
   "metadata": {
    "scrolled": true
   },
   "outputs": [
    {
     "data": {
      "text/plain": [
       "'var.l[i,j]$((( not (subset[j])) and ( not (map[i,j]))))'"
      ]
     },
     "execution_count": 10,
     "metadata": {},
     "output_type": "execute_result"
    }
   ],
   "source": [
    "ex3 = Group('ex3', v = None, sub_v = [('var', db['map'])], g = [ex2])()\n",
    "conditions = ex3.conditions\n",
    "ex3.writeVar('var', db = db, c = conditions, l = '.l') #"
   ]
  },
  {
   "cell_type": "markdown",
   "id": "1381c291-2a3d-45c7-89fb-f0293c614780",
   "metadata": {},
   "source": [
    "*Declare group:*"
   ]
  },
  {
   "cell_type": "code",
   "execution_count": 11,
   "id": "2f8907ab-99d7-4104-9b32-acfdd5ddc76e",
   "metadata": {},
   "outputs": [
    {
     "name": "stdout",
     "output_type": "stream",
     "text": [
      "variables\n",
      "\tvar[i,j]\n",
      ";\n",
      "\n",
      "\n"
     ]
    }
   ],
   "source": [
    "print(ex3.declare(db = db) )"
   ]
  },
  {
   "cell_type": "markdown",
   "id": "3f73f91b-d014-4b28-b753-e4b1619026db",
   "metadata": {},
   "source": [
    "*Example 4:*"
   ]
  },
  {
   "cell_type": "code",
   "execution_count": 12,
   "id": "59806a5c-70f0-417b-a0bd-ca970bbcf186",
   "metadata": {},
   "outputs": [
    {
     "data": {
      "text/plain": [
       "'var[i,j]'"
      ]
     },
     "execution_count": 12,
     "metadata": {},
     "output_type": "execute_result"
    }
   ],
   "source": [
    "ex2 = Group('ex', v = ['var', 'var1d'])()\n",
    "conditions = ex2.conditions\n",
    "ex2.writeVar('var', db = db, c = conditions)"
   ]
  },
  {
   "cell_type": "code",
   "execution_count": 13,
   "id": "49983d31-9b45-4d79-a2a5-a3519fddd15b",
   "metadata": {},
   "outputs": [],
   "source": [
    "ex3 = Group('ex3', v = None, sub_v = [('var', db['map'])], g = [ex2])"
   ]
  },
  {
   "cell_type": "markdown",
   "id": "c41c1429-76a9-4644-9d6b-4c695711e956",
   "metadata": {},
   "source": [
    "### 2. ```jTerms```"
   ]
  },
  {
   "cell_type": "code",
   "execution_count": null,
   "id": "0f9724ef-d0ab-4203-8d71-4e0ef3f1a3dd",
   "metadata": {},
   "outputs": [],
   "source": []
  }
 ],
 "metadata": {
  "kernelspec": {
   "display_name": "Python 3 (ipykernel)",
   "language": "python",
   "name": "python3"
  },
  "language_info": {
   "codemirror_mode": {
    "name": "ipython",
    "version": 3
   },
   "file_extension": ".py",
   "mimetype": "text/x-python",
   "name": "python",
   "nbconvert_exporter": "python",
   "pygments_lexer": "ipython3",
   "version": "3.11.8"
  }
 },
 "nbformat": 4,
 "nbformat_minor": 5
}
