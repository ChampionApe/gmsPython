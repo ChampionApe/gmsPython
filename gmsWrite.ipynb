{
 "cells": [
  {
   "cell_type": "code",
   "execution_count": 1,
   "id": "7054726d-290f-4e54-80ee-cc6181c6c558",
   "metadata": {},
   "outputs": [],
   "source": [
    "import os\n",
    "from gmsPython.gmsWrite.gmsWrite import *"
   ]
  },
  {
   "cell_type": "markdown",
   "id": "15ce6ff3-3122-478f-8042-494cb75661b5",
   "metadata": {},
   "source": [
    "*Load test database with symbols:*"
   ]
  },
  {
   "cell_type": "code",
   "execution_count": 2,
   "id": "e9a6e8f2-9b81-48ae-8922-1dd9bddecc13",
   "metadata": {},
   "outputs": [],
   "source": [
    "work_folder = os.path.join(os.getcwd(),'workFolder')\n",
    "data_folder = os.path.join(os.getcwd(), 'test')\n",
    "db = gpyDB.GpyDB(db = os.path.join(data_folder, 'test_size1000.gdx'), ws = work_folder)"
   ]
  },
  {
   "cell_type": "markdown",
   "id": "1dba86f1-366e-469b-b4e1-ef4539d444a8",
   "metadata": {},
   "source": [
    "## 1. Writing gpy symbols:"
   ]
  },
  {
   "cell_type": "markdown",
   "id": "a1640a98-92ab-483d-a98b-04f174a1eeb1",
   "metadata": {},
   "source": [
    "We can write ```gpy``` symbols to gams syntax using the ```Syms.gpy``` method:"
   ]
  },
  {
   "cell_type": "markdown",
   "id": "369536aa-fe78-47b5-8868-11881d85b635",
   "metadata": {},
   "source": [
    "*Write without conditions:*"
   ]
  },
  {
   "cell_type": "code",
   "execution_count": 3,
   "id": "0a71917d-401f-43fc-8971-7ba8ebfdae23",
   "metadata": {},
   "outputs": [
    {
     "name": "stdout",
     "output_type": "stream",
     "text": [
      "alias_set\n",
      "alias_map2\n",
      "i\n",
      "j\n",
      "alias_[alias_set,alias_map2]\n",
      "map[i,j]\n",
      "var[i,j]\n",
      "var1d[i]\n",
      "param[i,j]\n",
      "pscalar\n",
      "subset[j]\n",
      "sclr\n"
     ]
    }
   ],
   "source": [
    "for k in db:\n",
    "    print(Syms.gpy(k))"
   ]
  },
  {
   "cell_type": "markdown",
   "id": "c50226bd-42d5-4657-92af-2c5f7ecea1fa",
   "metadata": {},
   "source": [
    "### 1.1. Adding conditionals"
   ]
  },
  {
   "cell_type": "markdown",
   "id": "9fb8556c-a296-4da2-9068-11ef58b18ea1",
   "metadata": {},
   "source": [
    "We add conditions by specifying the kwarg ```c```. It follows the syntax from ```pyDatabases.adj.rc_AdjGpy``` which means that the same syntax that make adjustments to the python object can be translated into GAMS syntax."
   ]
  },
  {
   "cell_type": "markdown",
   "id": "0990e23f-d7fa-43b7-8ea6-6df3922231b9",
   "metadata": {},
   "source": [
    "#### Use ```gpy``` symbol as condition:"
   ]
  },
  {
   "cell_type": "code",
   "execution_count": 4,
   "id": "d5517b73-4c04-4d3f-b88c-202cf5c2b732",
   "metadata": {},
   "outputs": [
    {
     "data": {
      "text/plain": [
       "'var[i,j]$(map[i,j])'"
      ]
     },
     "execution_count": 4,
     "metadata": {},
     "output_type": "execute_result"
    }
   ],
   "source": [
    "Syms.gpy(s = db['var'], c = db['map']) # condition on map"
   ]
  },
  {
   "cell_type": "code",
   "execution_count": 5,
   "id": "54d28921-dc17-472c-9685-312483348018",
   "metadata": {},
   "outputs": [
    {
     "data": {
      "text/plain": [
       "'var[i,j]$(subset[j])'"
      ]
     },
     "execution_count": 5,
     "metadata": {},
     "output_type": "execute_result"
    }
   ],
   "source": [
    "Syms.gpy(s = db['var'], c = db['subset']) # condition on subset"
   ]
  },
  {
   "cell_type": "markdown",
   "id": "be0b83dd-86d7-4145-a691-b72dd692d547",
   "metadata": {},
   "source": [
    "*Note: All the statements used to write GAMS code here can also be used to subset the symbols in Python. For instance:*"
   ]
  },
  {
   "cell_type": "code",
   "execution_count": 6,
   "id": "c30046f5-af1a-4137-b694-911fe09b72c2",
   "metadata": {},
   "outputs": [
    {
     "data": {
      "text/plain": [
       "i  j  \n",
       "1  1      10.0\n",
       "   0      10.0\n",
       "   2      10.0\n",
       "   3      10.0\n",
       "   4      10.0\n",
       "          ... \n",
       "   495    10.0\n",
       "   496    10.0\n",
       "   497    10.0\n",
       "   498    10.0\n",
       "   499    10.0\n",
       "Name: var, Length: 500, dtype: float64"
      ]
     },
     "execution_count": 6,
     "metadata": {},
     "output_type": "execute_result"
    }
   ],
   "source": [
    "pyDatabases.adj.rc_AdjGpy(db['var'], c = db['subset']).vals"
   ]
  },
  {
   "cell_type": "markdown",
   "id": "2a8f94d8-036a-4cf9-8bbc-6e75a8d4035f",
   "metadata": {},
   "source": [
    "#### Use ```dict``` as condition:"
   ]
  },
  {
   "cell_type": "markdown",
   "id": "346919de-979b-4990-a980-6c5461503dc2",
   "metadata": {},
   "source": [
    "If we pass a dict as a condition, the text that is added as condition will be run through the ```Syms.gpy``` method itself. Thus, as we will see later, we may e.g. suggest that we only condition on the subset where the domain $j$ is lagged:"
   ]
  },
  {
   "cell_type": "code",
   "execution_count": 7,
   "id": "5956c3ab-99c4-423c-bf7a-eda8cc095423",
   "metadata": {},
   "outputs": [
    {
     "data": {
      "text/plain": [
       "'var[i,j]$(subset[j-1])'"
      ]
     },
     "execution_count": 7,
     "metadata": {},
     "output_type": "execute_result"
    }
   ],
   "source": [
    "Syms.gpy(s = db['var'], \n",
    "          c = {'s': db['subset'], 'lag': {'j':-1}}) "
   ]
  },
  {
   "cell_type": "markdown",
   "id": "bd3fa5f9-db12-4ef9-8765-51885b95a94a",
   "metadata": {},
   "source": [
    "*Note: If we pass lag as an integer instead of a dictionary, this will apply to **all** domains:* "
   ]
  },
  {
   "cell_type": "code",
   "execution_count": 8,
   "id": "284ced55-b91d-4611-a4f2-525eb98edbf2",
   "metadata": {},
   "outputs": [
    {
     "data": {
      "text/plain": [
       "'var[i,j]$(subset[j-1])'"
      ]
     },
     "execution_count": 8,
     "metadata": {},
     "output_type": "execute_result"
    }
   ],
   "source": [
    "Syms.gpy(s = db['var'], \n",
    "          c = {'s': db['subset'], 'lag': -1}) # this still works"
   ]
  },
  {
   "cell_type": "code",
   "execution_count": 9,
   "id": "e1544373-8730-4573-9a09-cc69a8496f44",
   "metadata": {},
   "outputs": [
    {
     "data": {
      "text/plain": [
       "'var[i,j]$(map[i-1,j-1])'"
      ]
     },
     "execution_count": 9,
     "metadata": {},
     "output_type": "execute_result"
    }
   ],
   "source": [
    "Syms.gpy(s = db['var'],\n",
    "          c = {'s': db['map'], 'lag': -1}) # this lags all domains in the condition, both i and j"
   ]
  },
  {
   "cell_type": "markdown",
   "id": "a9fe637b-d7fe-4cb8-8449-3c3c43f67f00",
   "metadata": {},
   "source": [
    "#### Use ```tuple``` as condition:"
   ]
  },
  {
   "cell_type": "markdown",
   "id": "c8a0a362-52f2-43ee-bade-ad8d5cd890ad",
   "metadata": {},
   "source": [
    "We use tuples to pass nested conditions or add negation. For instance:"
   ]
  },
  {
   "cell_type": "code",
   "execution_count": 10,
   "id": "d7333d61-0a25-4cfe-a1d3-7354e33df1ed",
   "metadata": {},
   "outputs": [
    {
     "data": {
      "text/plain": [
       "'var[i,j]$(( not (subset[j])))'"
      ]
     },
     "execution_count": 10,
     "metadata": {},
     "output_type": "execute_result"
    }
   ],
   "source": [
    "Syms.gpy(s = db['var'],\n",
    "          c = ('not', db['subset'])) # negation of condition"
   ]
  },
  {
   "cell_type": "code",
   "execution_count": 11,
   "id": "2bc50009-5444-4acd-9008-8cf376a74f51",
   "metadata": {},
   "outputs": [
    {
     "data": {
      "text/plain": [
       "'var[i,j]$((subset[j] or map[i,j] or subset[j-1]))'"
      ]
     },
     "execution_count": 11,
     "metadata": {},
     "output_type": "execute_result"
    }
   ],
   "source": [
    "Syms.gpy(s = db['var'],\n",
    "          c = ('or', [db['subset'], db['map'], {'s': db['subset'], 'lag': -1}])) # add 'or' between conditions in list"
   ]
  },
  {
   "cell_type": "code",
   "execution_count": 12,
   "id": "93de02e7-577c-4f04-8020-68c365f651e9",
   "metadata": {},
   "outputs": [
    {
     "data": {
      "text/plain": [
       "'var[i,j]$((subset[j] and map[i,j] and subset[j-1]))'"
      ]
     },
     "execution_count": 12,
     "metadata": {},
     "output_type": "execute_result"
    }
   ],
   "source": [
    "Syms.gpy(s = db['var'],\n",
    "          c = ('and', [db['subset'], db['map'], {'s': db['subset'], 'lag':-1}])) # add 'and' between conditions"
   ]
  },
  {
   "cell_type": "markdown",
   "id": "6f94f488-b620-47d1-b535-078b2131ca88",
   "metadata": {},
   "source": [
    "*Note: Nested conditions can also nest other condtions - the methods work iteratively, so go nuts:*"
   ]
  },
  {
   "cell_type": "code",
   "execution_count": 13,
   "id": "5e7e39b1-0346-44b9-ae38-e65ef75ca399",
   "metadata": {},
   "outputs": [
    {
     "data": {
      "text/plain": [
       "'var[i,j]$((subset[j] and (subset[j-1] or map[i,j])))'"
      ]
     },
     "execution_count": 13,
     "metadata": {},
     "output_type": "execute_result"
    }
   ],
   "source": [
    "c = ('and', [db['subset'], \n",
    "             ('or', [{'s': db['subset'], 'lag':-1}, db['map']])\n",
    "            ]\n",
    "    )\n",
    "Syms.gpy(s = db['var'], c = c)"
   ]
  },
  {
   "cell_type": "markdown",
   "id": "30c1d355-62d1-460a-aba3-2c1d028f2598",
   "metadata": {},
   "source": [
    "#### Use ```str``` as condition:"
   ]
  },
  {
   "cell_type": "markdown",
   "id": "d38d8774-2a9a-4c01-b6bb-28659bfc9654",
   "metadata": {},
   "source": [
    "The final option is simply to Syms. the condition yourself. \n",
    "\n",
    "*Note: This is the one option that cannot be passed to the method ```rc_AdjGpy```.*"
   ]
  },
  {
   "cell_type": "code",
   "execution_count": 14,
   "id": "bd6a0d8f-bde7-43e5-89f1-91360f3b0d47",
   "metadata": {},
   "outputs": [
    {
     "data": {
      "text/plain": [
       "'var[i,j]$(subset[jj])'"
      ]
     },
     "execution_count": 14,
     "metadata": {},
     "output_type": "execute_result"
    }
   ],
   "source": [
    "Syms.gpy(s = db['var'], c = 'subset[jj]')"
   ]
  },
  {
   "cell_type": "markdown",
   "id": "12b41903-9b38-41a4-8221-3d9899799b84",
   "metadata": {},
   "source": [
    "### 1.2. Alias domains"
   ]
  },
  {
   "cell_type": "markdown",
   "id": "b1c7dc97-3f00-46c4-b2dd-65ca4c355b49",
   "metadata": {},
   "source": [
    "The alias kwarg allows us to use an aliased domain. For instance, the database has aliased $j$ with $jj$. The write method uses this to adjust domain names:"
   ]
  },
  {
   "cell_type": "code",
   "execution_count": 15,
   "id": "5e925442-4a0a-4b6e-9c63-4ed6c6d5cf64",
   "metadata": {},
   "outputs": [
    {
     "data": {
      "text/plain": [
       "'var[i,jj]'"
      ]
     },
     "execution_count": 15,
     "metadata": {},
     "output_type": "execute_result"
    }
   ],
   "source": [
    "Syms.gpy(s = db['var'], alias = {'j':'jj'})"
   ]
  },
  {
   "cell_type": "markdown",
   "id": "616c6758-f477-4299-9392-2160b63a9c33",
   "metadata": {},
   "source": [
    "*Note: If the alias is used to write a set (I know this is a weird use-case)*"
   ]
  },
  {
   "cell_type": "code",
   "execution_count": 16,
   "id": "10f46576-02f1-4315-b7c7-9914a3eaf2e0",
   "metadata": {},
   "outputs": [
    {
     "data": {
      "text/plain": [
       "'jj'"
      ]
     },
     "execution_count": 16,
     "metadata": {},
     "output_type": "execute_result"
    }
   ],
   "source": [
    "Syms.gpy(s = db['j'], alias = {'j':'jj'})"
   ]
  },
  {
   "cell_type": "markdown",
   "id": "447ba895-107b-4cac-990d-1696a66643cc",
   "metadata": {},
   "source": [
    "### 1.3. Lag domains"
   ]
  },
  {
   "cell_type": "markdown",
   "id": "01d7e754-45e9-465e-8e79-655771e466ce",
   "metadata": {},
   "source": [
    "Domains are lagged by adding what levels (adding a dictionary) or on all levels (adding an int):"
   ]
  },
  {
   "cell_type": "code",
   "execution_count": 17,
   "id": "9fa8b0de-5392-4b2b-a5b2-02b1d8013843",
   "metadata": {},
   "outputs": [
    {
     "data": {
      "text/plain": [
       "'var[i+1,j-1]'"
      ]
     },
     "execution_count": 17,
     "metadata": {},
     "output_type": "execute_result"
    }
   ],
   "source": [
    "Syms.gpy(s = db['var'], lag = {'i':'+1', 'j':-1})"
   ]
  },
  {
   "cell_type": "markdown",
   "id": "534c1c55-aa87-4ebf-b76d-083d8de4942a",
   "metadata": {},
   "source": [
    "### 1.4. Specify attribute ```l```"
   ]
  },
  {
   "cell_type": "markdown",
   "id": "3a9a2dc5-e3b6-40d0-ae23-a7030125fd51",
   "metadata": {},
   "source": [
    "Finally, for variables we may want to set/get a particular attribute of the symbol. In this case, we may add e.g. ```l=.l``` to indicate this:"
   ]
  },
  {
   "cell_type": "code",
   "execution_count": 18,
   "id": "02aa8bec-3aee-497b-8b54-d3b4febbf124",
   "metadata": {},
   "outputs": [
    {
     "data": {
      "text/plain": [
       "'var.l[i,j]'"
      ]
     },
     "execution_count": 18,
     "metadata": {},
     "output_type": "execute_result"
    }
   ],
   "source": [
    "Syms.gpy(s = db['var'], l = '.l')"
   ]
  },
  {
   "cell_type": "markdown",
   "id": "3aa7e1e7-2043-4b87-b78d-5bac8d6b93c0",
   "metadata": {},
   "source": [
    "## 2. Write from GpyDB"
   ]
  },
  {
   "cell_type": "markdown",
   "id": "f63933ea-03df-43bc-843c-42b8307fd94a",
   "metadata": {},
   "source": [
    "Write declare and load statements:"
   ]
  },
  {
   "cell_type": "code",
   "execution_count": 19,
   "id": "7788c88c-e08c-40cd-93a7-156d9ea07e23",
   "metadata": {},
   "outputs": [],
   "source": [
    "db.mergeInternal() # write gpy symbols to GamsDatabase"
   ]
  },
  {
   "cell_type": "markdown",
   "id": "a07c369f-88cf-477f-8522-0526bbd2aba4",
   "metadata": {},
   "source": [
    "Create text for declaring and loading symbols from the database:"
   ]
  },
  {
   "cell_type": "code",
   "execution_count": 20,
   "id": "25d3551b-76e7-4416-9675-d739256ca11c",
   "metadata": {},
   "outputs": [],
   "source": [
    "decl = FromDB.declare(db)\n",
    "load = FromDB.load(db, gdx = db.name)"
   ]
  },
  {
   "cell_type": "markdown",
   "id": "97291c3b-ea6b-4846-b098-9694d6cbfb68",
   "metadata": {},
   "source": [
    "Create a GamsJob containing the declaring and loading:"
   ]
  },
  {
   "cell_type": "code",
   "execution_count": 21,
   "id": "01751fa1-279f-41cb-a7ff-2791c4865142",
   "metadata": {},
   "outputs": [],
   "source": [
    "job = db.ws.add_job_from_string(decl+load)"
   ]
  },
  {
   "cell_type": "markdown",
   "id": "62a667ea-be4f-42b4-8607-28f3f7c9ddf9",
   "metadata": {},
   "source": [
    "Run job with the database as an option:"
   ]
  },
  {
   "cell_type": "code",
   "execution_count": 22,
   "id": "0caf7809-c201-421f-b5a2-719c4dcfad62",
   "metadata": {},
   "outputs": [],
   "source": [
    "job.run(databases = db.database)"
   ]
  },
  {
   "cell_type": "markdown",
   "id": "d7500e03-1154-4981-9181-ff9eaf5ad3c8",
   "metadata": {},
   "source": [
    "*Note: Using the databases option means exporting to a gdx file in the working directory - there is no \"direct\" link to the GamsDatabase instance. This means that we can just as easily write the load statement and point to a different database name, then export the database with this name, and run the file **without** the database option. That is, the following syntax gives identical results:*"
   ]
  },
  {
   "cell_type": "code",
   "execution_count": 23,
   "id": "d0dc4c40-fd31-4474-9011-6e9a396211c4",
   "metadata": {},
   "outputs": [],
   "source": [
    "load_newName = FromDB.load(db, gdx = 'newname')\n",
    "db.database.export('newname')\n",
    "db.ws.add_job_from_string(decl+load_newName).run() # run without the database option."
   ]
  },
  {
   "cell_type": "markdown",
   "id": "fffd9398-1bd0-4f53-8ce2-30cd3e8b438c",
   "metadata": {},
   "source": [
    "*Note: One way to set lower/upper bounds on a variable is to include these directly in the database by specifying the ```self.defaultAttrs```, ```self.np```, or ```self.df``` attribute of the relevant gdx symbol:*"
   ]
  },
  {
   "cell_type": "code",
   "execution_count": 24,
   "id": "3c700968-a22e-4acf-8233-279befbb754f",
   "metadata": {},
   "outputs": [],
   "source": [
    "db['var'].defaultAttrs['lower'] = 0 # set the default lower bound to 0 - used to create .np "
   ]
  },
  {
   "cell_type": "markdown",
   "id": "8e655543-43b4-407e-a190-17bf8214176e",
   "metadata": {},
   "source": [
    "## 3. Write from GmsPy instance"
   ]
  },
  {
   "cell_type": "markdown",
   "id": "6adf4464-2d61-40d2-966a-fac11bb92103",
   "metadata": {},
   "source": [
    "We use the ```GmsPy``` instance to define model settings."
   ]
  },
  {
   "cell_type": "code",
   "execution_count": null,
   "id": "fdd3dcd4-178d-4676-8420-754bcc79b341",
   "metadata": {},
   "outputs": [],
   "source": []
  }
 ],
 "metadata": {
  "kernelspec": {
   "display_name": "Python 3 (ipykernel)",
   "language": "python",
   "name": "python3"
  },
  "language_info": {
   "codemirror_mode": {
    "name": "ipython",
    "version": 3
   },
   "file_extension": ".py",
   "mimetype": "text/x-python",
   "name": "python",
   "nbconvert_exporter": "python",
   "pygments_lexer": "ipython3",
   "version": "3.11.8"
  }
 },
 "nbformat": 4,
 "nbformat_minor": 5
}
