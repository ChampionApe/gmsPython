{
 "cells": [
  {
   "cell_type": "code",
   "execution_count": 1,
   "id": "4a4815dc-f276-4010-95cb-a621a65f56ea",
   "metadata": {},
   "outputs": [],
   "source": [
    "import gmsPython"
   ]
  },
  {
   "cell_type": "markdown",
   "id": "d8c36b74-4df5-4e2e-9cb0-6ae6ce1df41d",
   "metadata": {},
   "source": [
    "The structure of the model:\n",
    "\n",
    "**Outer-most level:**\n",
    "* All methods from ```_mixedTools.py```.\n",
    "* Classes from ```gmsPython/nestingTree/nestingTree.py```: ```tree```, ```tree_from_data```, ```aggTree```, ```aggTree_from_data```.\n",
    "* Classes from ```gmsPython/gmsPy/gmsPy.py```: ```Compile```, ```Group```, ```GmsSettings```, ```GmsModel```.\n",
    "* Classes from ```gmsPython/gmsPyModels/gmsPyModels.py```: ```GmsPython```, ```Submodule```.\n",
    "\n",
    "**Modules:**\n",
    "* ```nestingTree```\n",
    "* ```gmsWrite```\n",
    "* ```gmsPy```\n",
    "* ```gmsPyModels```"
   ]
  },
  {
   "cell_type": "markdown",
   "id": "7d7f50b0-927d-42aa-b245-b06608fb952e",
   "metadata": {},
   "source": [
    "## 1. Outer-most level:"
   ]
  },
  {
   "cell_type": "markdown",
   "id": "7ccd9d0a-50f7-483c-bbdc-c07965f1bcfe",
   "metadata": {},
   "source": [
    "*Methods from ```_mixedTools```:*"
   ]
  },
  {
   "cell_type": "markdown",
   "id": "dfdc5b89-93dd-43af-989e-dbf3f70b9500",
   "metadata": {},
   "source": [
    "*Selected methods from ```nestingTree``` can be accessed directly*"
   ]
  },
  {
   "cell_type": "code",
   "execution_count": 2,
   "id": "c67f1aee-d785-494f-a9ed-b040bfb32a88",
   "metadata": {},
   "outputs": [
    {
     "data": {
      "text/plain": [
       "(gmsPython.nestingTree.nestingTree.tree,\n",
       " gmsPython.nestingTree.nestingTree.tree_from_data,\n",
       " gmsPython.nestingTree.nestingTree.aggTree,\n",
       " gmsPython.nestingTree.nestingTree.aggTree_from_data)"
      ]
     },
     "execution_count": 2,
     "metadata": {},
     "output_type": "execute_result"
    }
   ],
   "source": [
    "(gmsPython.tree, gmsPython.tree_from_data, gmsPython.aggTree, gmsPython.aggTree_from_data)"
   ]
  },
  {
   "cell_type": "markdown",
   "id": "66d9b6e8-bdbb-46f8-8db4-0047724c9806",
   "metadata": {},
   "source": [
    "*Selected methods from ```gmsPy``` can be accessed directly*"
   ]
  },
  {
   "cell_type": "code",
   "execution_count": 3,
   "id": "02ee5055-408c-4159-bc20-d8ad3baf6349",
   "metadata": {},
   "outputs": [
    {
     "data": {
      "text/plain": [
       "(gmsPython.gmsPy._gmsPy.Compile,\n",
       " gmsPython.gmsPy._gmsPy.Group,\n",
       " gmsPython.gmsPy.gmsPy.GmsSettings,\n",
       " gmsPython.gmsPy.gmsPy.GmsModel)"
      ]
     },
     "execution_count": 3,
     "metadata": {},
     "output_type": "execute_result"
    }
   ],
   "source": [
    "(gmsPython.Compile, gmsPython.Group, gmsPython.GmsSettings, gmsPython.GmsModel)"
   ]
  },
  {
   "cell_type": "markdown",
   "id": "3fc9f1c7-d3bf-4294-9164-102951f7af08",
   "metadata": {},
   "source": [
    "*Selected methods from ```gmsPyModels``` can be accessed directly*"
   ]
  },
  {
   "cell_type": "code",
   "execution_count": 4,
   "id": "449e218e-5777-4205-8920-ec12801cc9ad",
   "metadata": {},
   "outputs": [
    {
     "data": {
      "text/plain": [
       "(gmsPython.gmsPyModels.gmsPyModels.GmsPython,\n",
       " gmsPython.gmsPyModels.gmsPyModels.Submodule)"
      ]
     },
     "execution_count": 4,
     "metadata": {},
     "output_type": "execute_result"
    }
   ],
   "source": [
    "(gmsPython.GmsPython, gmsPython.Submodule)"
   ]
  },
  {
   "cell_type": "markdown",
   "id": "6b779a3a-91a3-485a-8045-399936e1099d",
   "metadata": {},
   "source": [
    "## 2. Modules:"
   ]
  },
  {
   "cell_type": "markdown",
   "id": "68eaa505-409f-4485-b172-2d37a7dd9403",
   "metadata": {},
   "source": [
    "### 2.1. nestingTree:"
   ]
  },
  {
   "cell_type": "code",
   "execution_count": 5,
   "id": "333ac099-8f9b-4c6e-ba60-978acda04513",
   "metadata": {},
   "outputs": [],
   "source": [
    "from gmsPython import nestingTree"
   ]
  },
  {
   "cell_type": "markdown",
   "id": "97f25e38-1f18-4af0-a24a-627feb132b08",
   "metadata": {},
   "source": [
    "*Methods, not only classes:*"
   ]
  },
  {
   "cell_type": "code",
   "execution_count": 6,
   "id": "6b839aa0-c15f-466d-b92f-7681575539d6",
   "metadata": {},
   "outputs": [
    {
     "data": {
      "text/plain": [
       "<function gmsPython.nestingTree.nestingTree.checkOrIgnore(d, k)>"
      ]
     },
     "execution_count": 6,
     "metadata": {},
     "output_type": "execute_result"
    }
   ],
   "source": [
    "nestingTree.checkOrIgnore # a specific function that cannot be loaded by calling 'gmsPython.checkOrIgnore' directly"
   ]
  },
  {
   "cell_type": "markdown",
   "id": "6f0898bb-d85f-45b8-9131-4dd02758949a",
   "metadata": {},
   "source": [
    "### 2.2. gmsWrite:"
   ]
  },
  {
   "cell_type": "code",
   "execution_count": 7,
   "id": "2b512dc2-a1b1-4835-bc29-bdf3809624e2",
   "metadata": {},
   "outputs": [],
   "source": [
    "from gmsPython import gmsWrite"
   ]
  },
  {
   "cell_type": "markdown",
   "id": "e2e5a3ae-8586-406a-bb4e-be71d31ecc4b",
   "metadata": {},
   "source": [
    "*Methods:*"
   ]
  },
  {
   "cell_type": "code",
   "execution_count": 8,
   "id": "4c159d8c-2635-4e4c-b98d-d8f553398320",
   "metadata": {},
   "outputs": [
    {
     "data": {
      "text/plain": [
       "(<function gmsPython.gmsWrite.standardRun(settings, db, prefix='')>,\n",
       " <function gmsPython.gmsWrite.SolveLoop(settings, dbT, db0=None, name='shock', subsetDB=True, loop='l1', solve=None, model=None, **kwargs)>)"
      ]
     },
     "execution_count": 8,
     "metadata": {},
     "output_type": "execute_result"
    }
   ],
   "source": [
    "(gmsWrite.standardRun, gmsWrite.SolveLoop) # these are not loaded to the upper-most level"
   ]
  },
  {
   "cell_type": "markdown",
   "id": "99937438-9902-4e26-abef-b80ee8d6d20b",
   "metadata": {},
   "source": [
    "### 2.3. gmsPy:"
   ]
  },
  {
   "cell_type": "code",
   "execution_count": 9,
   "id": "0aecd31e-1e72-4afc-9958-48306f0c8355",
   "metadata": {},
   "outputs": [],
   "source": [
    "from gmsPython import gmsPy"
   ]
  },
  {
   "cell_type": "markdown",
   "id": "7670fe50-26b6-430a-9d05-3fe9637a2b86",
   "metadata": {},
   "source": [
    "*Methods:*"
   ]
  },
  {
   "cell_type": "code",
   "execution_count": 10,
   "id": "dae98479-c216-452b-9afe-9c1cc97fc05f",
   "metadata": {},
   "outputs": [
    {
     "data": {
      "text/plain": [
       "(<function gmsPython.gmsPy.gmsPy.mergeStates(main, other, l, mergeArgs=False, order=None)>,\n",
       " <function gmsPython.gmsPy._gmsPy.mergeCompile(main, other)>)"
      ]
     },
     "execution_count": 10,
     "metadata": {},
     "output_type": "execute_result"
    }
   ],
   "source": [
    "(gmsPy.mergeStates, gmsPy.mergeCompile)"
   ]
  },
  {
   "cell_type": "markdown",
   "id": "8907be9c-e4db-494c-b446-f17589234393",
   "metadata": {},
   "source": [
    "### 2.4. gmsPyModels:"
   ]
  },
  {
   "cell_type": "code",
   "execution_count": 11,
   "id": "52f10a90-c7c8-4536-bc57-bfce6ef7da60",
   "metadata": {},
   "outputs": [],
   "source": [
    "from gmsPython import gmsPyModels"
   ]
  },
  {
   "cell_type": "markdown",
   "id": "54e60e13-19b3-4f4c-af9d-8e33a2edceea",
   "metadata": {},
   "source": [
    "*Methods (currently, only classes included here)*"
   ]
  },
  {
   "cell_type": "code",
   "execution_count": 15,
   "id": "e0aa18de-64fc-42b3-9927-ae279ea2a324",
   "metadata": {},
   "outputs": [
    {
     "data": {
      "text/plain": [
       "gmsPython.gmsPyModels.gmsPyModels.GmsPython"
      ]
     },
     "execution_count": 15,
     "metadata": {},
     "output_type": "execute_result"
    }
   ],
   "source": [
    "gmsPyModels.GmsPython"
   ]
  }
 ],
 "metadata": {
  "kernelspec": {
   "display_name": "Python 3 (ipykernel)",
   "language": "python",
   "name": "python3"
  },
  "language_info": {
   "codemirror_mode": {
    "name": "ipython",
    "version": 3
   },
   "file_extension": ".py",
   "mimetype": "text/x-python",
   "name": "python",
   "nbconvert_exporter": "python",
   "pygments_lexer": "ipython3",
   "version": "3.9.7"
  }
 },
 "nbformat": 4,
 "nbformat_minor": 5
}
